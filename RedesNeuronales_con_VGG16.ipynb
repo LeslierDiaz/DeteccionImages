{
  "cells": [
    {
      "cell_type": "code",
      "execution_count": null,
      "metadata": {
        "id": "FZp2w6poEv6E"
      },
      "outputs": [],
      "source": [
        "#imporar librerias \n",
        "import numpy as np\n",
        "import pandas as pd\n",
        "import matplotlib.pyplot as plt\n",
        "import os \n",
        "import keras \n",
        "from keras.preprocessing.image import ImageDataGenerator\n",
        "from tensorflow.keras.utils import img_to_array, load_img\n",
        "from keras.applications.vgg16 import VGG16, preprocess_input, decode_predictions\n",
        "from tensorflow.keras.losses import BinaryCrossentropy\n",
        "from tensorflow.keras.optimizers.legacy import Adam\n",
        "from sklearn.metrics import accuracy_score, precision_score, recall_score, f1_score"
      ]
    },
    {
      "cell_type": "code",
      "execution_count": null,
      "metadata": {
        "id": "T0lCqeWZgtKc"
      },
      "outputs": [],
      "source": [
        "train_data_dir = '/content/drive/MyDrive/PI/Rosas/Rosas/train'  \n",
        "validation_data_dir = '/content/drive/MyDrive/PI/Rosas/Rosas/test'\n",
        "\n",
        "class_name = ['Sanas', 'Enfermas']"
      ]
    },
    {
      "cell_type": "code",
      "execution_count": null,
      "metadata": {
        "id": "HWNX-Zdtw9xe"
      },
      "outputs": [],
      "source": [
        "#Parametros \n",
        "train_datagen = ImageDataGenerator(\n",
        "    rescale=1./255,  # Reescalamos las imágenes\n",
        "    rotation_range=20,  # Rotación aleatoria\n",
        "    zoom_range=0.2,  # Zoom aleatorio\n",
        "    width_shift_range=0.2,  # Traslación horizontal aleatoria\n",
        "    height_shift_range=0.2,  # Traslación vertical aleatoria\n",
        "    horizontal_flip=True,\n",
        "    vertical_flip=True,  # Volteo horizontal aleatorio\n",
        "    preprocessing_function=preprocess_input, \n",
        "     fill_mode='nearest',\n",
        "    data_format=\"channels_last\")\n",
        "\n",
        "\n",
        "\n",
        "valid_datagen = ImageDataGenerator(preprocessing_function=preprocess_input, rescale= 1/255)"
      ]
    },
    {
      "cell_type": "code",
      "execution_count": null,
      "metadata": {
        "colab": {
          "base_uri": "https://localhost:8080/"
        },
        "id": "_I0xtx0EME4N",
        "outputId": "0b0b78b9-9086-4888-acd6-3a3f46f19d2d"
      },
      "outputs": [
        {
          "output_type": "stream",
          "name": "stdout",
          "text": [
            "Found 251 images belonging to 2 classes.\n",
            "Found 251 images belonging to 2 classes.\n"
          ]
        }
      ],
      "source": [
        "train_generator = train_datagen.flow_from_directory(  \n",
        "    train_data_dir,\n",
        "    target_size=(255, 255),\n",
        "    batch_size=32,\n",
        "    #class_mode='binary'\n",
        "    )\n",
        "\n",
        "validation_generator = valid_datagen.flow_from_directory(  \n",
        "    validation_data_dir,\n",
        "    target_size=(255, 255),\n",
        "    batch_size=32,\n",
        "    #class_mode='binary'\n",
        "    )"
      ]
    },
    {
      "cell_type": "markdown",
      "metadata": {
        "id": "rmZFujukLbp7"
      },
      "source": [
        "Modelo\n"
      ]
    },
    {
      "cell_type": "code",
      "execution_count": null,
      "metadata": {
        "id": "7G8pg_nkLfP1"
      },
      "outputs": [],
      "source": [
        "from keras.layers import Dense, Flatten \n",
        "from keras.models import Model "
      ]
    },
    {
      "cell_type": "code",
      "execution_count": null,
      "metadata": {
        "id": "cZQa82a9L4ww",
        "colab": {
          "base_uri": "https://localhost:8080/"
        },
        "outputId": "8f087e5c-c008-40c6-eded-f66e1157a5f5"
      },
      "outputs": [
        {
          "output_type": "stream",
          "name": "stdout",
          "text": [
            "Downloading data from https://storage.googleapis.com/tensorflow/keras-applications/vgg16/vgg16_weights_tf_dim_ordering_tf_kernels_notop.h5\n",
            "58889256/58889256 [==============================] - 3s 0us/step\n"
          ]
        }
      ],
      "source": [
        "base_model = VGG16(input_shape= (255, 255, 3), include_top= False)"
      ]
    },
    {
      "cell_type": "code",
      "execution_count": null,
      "metadata": {
        "id": "tq4ak6mLRhL9"
      },
      "outputs": [],
      "source": [
        "for layer in base_model.layers:\n",
        "  layer.trainable = False"
      ]
    },
    {
      "cell_type": "code",
      "execution_count": null,
      "metadata": {
        "id": "lB6ZFX4SSAKJ"
      },
      "outputs": [],
      "source": [
        "X = Flatten()(base_model.output)\n",
        "X = Dense(2, activation= 'sigmoid')(X)\n",
        "\n",
        "#Creacion del modelo \n",
        "model = Model(base_model.input,X)"
      ]
    },
    {
      "cell_type": "code",
      "execution_count": null,
      "metadata": {
        "id": "n5xVxpHGRuRo"
      },
      "outputs": [],
      "source": [
        "model.compile(optimizer='adam', \n",
        "              loss=keras.losses.BinaryCrossentropy(from_logits=True),\n",
        "              metrics=['accuracy'])"
      ]
    },
    {
      "cell_type": "code",
      "execution_count": null,
      "metadata": {
        "id": "dFXaB6I_ScuD"
      },
      "outputs": [],
      "source": [
        "from keras.callbacks import ModelCheckpoint, EarlyStopping"
      ]
    },
    {
      "cell_type": "code",
      "execution_count": null,
      "metadata": {
        "id": "daUjwl6dawX9"
      },
      "outputs": [],
      "source": [
        "es = EarlyStopping(monitor = 'val_accuracy', min_delta = 0.01, patience = 3, verbose= 1)\n",
        "\n",
        "mc = ModelCheckpoint(filepath= 'best_model.h5', \n",
        "                     monitor = 'val_accuracy', \n",
        "                     min_delta = 0.01, \n",
        "                     patience = 3, \n",
        "                     verbose=1, \n",
        "                     save_best_only= True)\n",
        "\n",
        "cb= [es, mc]"
      ]
    },
    {
      "cell_type": "code",
      "execution_count": null,
      "metadata": {
        "colab": {
          "base_uri": "https://localhost:8080/"
        },
        "id": "nR2RmKxecgiN",
        "outputId": "b95021a9-c7af-4658-d46d-72a4bf4f6592"
      },
      "outputs": [
        {
          "output_type": "stream",
          "name": "stdout",
          "text": [
            "Epoch 1/50\n"
          ]
        },
        {
          "output_type": "stream",
          "name": "stderr",
          "text": [
            "/usr/local/lib/python3.10/dist-packages/keras/backend.py:5703: UserWarning: \"`binary_crossentropy` received `from_logits=True`, but the `output` argument was produced by a Sigmoid activation and thus does not represent logits. Was this intended?\n",
            "  output, from_logits = _get_logits(\n"
          ]
        },
        {
          "output_type": "stream",
          "name": "stdout",
          "text": [
            "6/6 [==============================] - 204s 35s/step - loss: 0.8330 - accuracy: 0.5080 - val_loss: 0.6275 - val_accuracy: 0.6719\n",
            "Epoch 2/50\n",
            "6/6 [==============================] - 61s 11s/step - loss: 0.6343 - accuracy: 0.6631 - val_loss: 0.5066 - val_accuracy: 0.7708\n",
            "Epoch 3/50\n",
            "6/6 [==============================] - 45s 8s/step - loss: 0.5526 - accuracy: 0.7380 - val_loss: 0.5355 - val_accuracy: 0.7344\n",
            "Epoch 4/50\n",
            "6/6 [==============================] - 44s 8s/step - loss: 0.4978 - accuracy: 0.7969 - val_loss: 0.4780 - val_accuracy: 0.7552\n",
            "Epoch 5/50\n",
            "6/6 [==============================] - 44s 8s/step - loss: 0.5095 - accuracy: 0.7487 - val_loss: 0.4724 - val_accuracy: 0.7812\n",
            "Epoch 6/50\n",
            "6/6 [==============================] - 43s 8s/step - loss: 0.5008 - accuracy: 0.7433 - val_loss: 0.4211 - val_accuracy: 0.8021\n",
            "Epoch 7/50\n",
            "6/6 [==============================] - 44s 8s/step - loss: 0.4077 - accuracy: 0.7968 - val_loss: 0.4167 - val_accuracy: 0.8125\n",
            "Epoch 8/50\n",
            "6/6 [==============================] - 42s 8s/step - loss: 0.4480 - accuracy: 0.7701 - val_loss: 0.3724 - val_accuracy: 0.8229\n",
            "Epoch 9/50\n",
            "6/6 [==============================] - 43s 8s/step - loss: 0.4332 - accuracy: 0.7647 - val_loss: 0.3424 - val_accuracy: 0.8594\n",
            "Epoch 10/50\n",
            "6/6 [==============================] - 43s 8s/step - loss: 0.4275 - accuracy: 0.7807 - val_loss: 0.3550 - val_accuracy: 0.8646\n",
            "Epoch 11/50\n",
            "6/6 [==============================] - 42s 8s/step - loss: 0.3904 - accuracy: 0.8289 - val_loss: 0.3400 - val_accuracy: 0.8698\n",
            "Epoch 12/50\n",
            "6/6 [==============================] - 42s 8s/step - loss: 0.4106 - accuracy: 0.7917 - val_loss: 0.5272 - val_accuracy: 0.7448\n",
            "Epoch 13/50\n",
            "6/6 [==============================] - 42s 8s/step - loss: 0.4343 - accuracy: 0.7968 - val_loss: 0.3600 - val_accuracy: 0.8490\n",
            "Epoch 14/50\n",
            "6/6 [==============================] - 42s 8s/step - loss: 0.3532 - accuracy: 0.8503 - val_loss: 0.4920 - val_accuracy: 0.7552\n",
            "Epoch 15/50\n",
            "6/6 [==============================] - 43s 8s/step - loss: 0.4513 - accuracy: 0.7812 - val_loss: 0.3096 - val_accuracy: 0.8802\n",
            "Epoch 16/50\n",
            "6/6 [==============================] - 41s 8s/step - loss: 0.3414 - accuracy: 0.8449 - val_loss: 0.3313 - val_accuracy: 0.8333\n",
            "Epoch 17/50\n",
            "6/6 [==============================] - 42s 8s/step - loss: 0.3384 - accuracy: 0.8556 - val_loss: 0.3197 - val_accuracy: 0.8490\n",
            "Epoch 18/50\n",
            "6/6 [==============================] - 43s 8s/step - loss: 0.3715 - accuracy: 0.8385 - val_loss: 0.3693 - val_accuracy: 0.8281\n",
            "Epoch 19/50\n",
            "6/6 [==============================] - 41s 8s/step - loss: 0.3136 - accuracy: 0.8610 - val_loss: 0.3340 - val_accuracy: 0.8281\n",
            "Epoch 20/50\n",
            "6/6 [==============================] - 42s 8s/step - loss: 0.3413 - accuracy: 0.8698 - val_loss: 0.3020 - val_accuracy: 0.8333\n",
            "Epoch 21/50\n",
            "6/6 [==============================] - 43s 8s/step - loss: 0.3228 - accuracy: 0.8717 - val_loss: 0.3363 - val_accuracy: 0.8177\n",
            "Epoch 22/50\n",
            "6/6 [==============================] - 43s 8s/step - loss: 0.3316 - accuracy: 0.8503 - val_loss: 0.3236 - val_accuracy: 0.8333\n",
            "Epoch 23/50\n",
            "6/6 [==============================] - 41s 8s/step - loss: 0.3376 - accuracy: 0.8503 - val_loss: 0.3079 - val_accuracy: 0.8802\n",
            "Epoch 24/50\n",
            "6/6 [==============================] - 42s 8s/step - loss: 0.3404 - accuracy: 0.8342 - val_loss: 0.2969 - val_accuracy: 0.8594\n",
            "Epoch 25/50\n",
            "6/6 [==============================] - 43s 8s/step - loss: 0.3453 - accuracy: 0.8385 - val_loss: 0.2823 - val_accuracy: 0.8698\n",
            "Epoch 26/50\n",
            "6/6 [==============================] - 43s 8s/step - loss: 0.3108 - accuracy: 0.8542 - val_loss: 0.2695 - val_accuracy: 0.9010\n",
            "Epoch 27/50\n",
            "6/6 [==============================] - 42s 8s/step - loss: 0.2971 - accuracy: 0.8770 - val_loss: 0.2787 - val_accuracy: 0.8906\n",
            "Epoch 28/50\n",
            "6/6 [==============================] - 41s 7s/step - loss: 0.3170 - accuracy: 0.8824 - val_loss: 0.2953 - val_accuracy: 0.8542\n",
            "Epoch 29/50\n",
            "6/6 [==============================] - 42s 8s/step - loss: 0.2801 - accuracy: 0.8824 - val_loss: 0.2768 - val_accuracy: 0.8958\n",
            "Epoch 30/50\n",
            "6/6 [==============================] - 42s 8s/step - loss: 0.3366 - accuracy: 0.8717 - val_loss: 0.2761 - val_accuracy: 0.8958\n",
            "Epoch 31/50\n",
            "6/6 [==============================] - 43s 8s/step - loss: 0.3355 - accuracy: 0.8594 - val_loss: 0.2774 - val_accuracy: 0.8802\n",
            "Epoch 32/50\n",
            "6/6 [==============================] - 42s 8s/step - loss: 0.3222 - accuracy: 0.8342 - val_loss: 0.2663 - val_accuracy: 0.8854\n",
            "Epoch 33/50\n",
            "6/6 [==============================] - 43s 8s/step - loss: 0.3475 - accuracy: 0.8342 - val_loss: 0.3754 - val_accuracy: 0.8177\n",
            "Epoch 34/50\n",
            "6/6 [==============================] - 43s 8s/step - loss: 0.3870 - accuracy: 0.8229 - val_loss: 0.3675 - val_accuracy: 0.8177\n",
            "Epoch 35/50\n",
            "6/6 [==============================] - 43s 8s/step - loss: 0.3672 - accuracy: 0.8342 - val_loss: 0.3296 - val_accuracy: 0.8542\n",
            "Epoch 36/50\n",
            "6/6 [==============================] - 43s 8s/step - loss: 0.3173 - accuracy: 0.8556 - val_loss: 0.3224 - val_accuracy: 0.8385\n",
            "Epoch 37/50\n",
            "6/6 [==============================] - 42s 8s/step - loss: 0.3070 - accuracy: 0.8503 - val_loss: 0.3368 - val_accuracy: 0.8385\n",
            "Epoch 38/50\n",
            "6/6 [==============================] - 42s 8s/step - loss: 0.3464 - accuracy: 0.8556 - val_loss: 0.3300 - val_accuracy: 0.8490\n",
            "Epoch 39/50\n",
            "6/6 [==============================] - 43s 8s/step - loss: 0.3180 - accuracy: 0.8449 - val_loss: 0.2669 - val_accuracy: 0.8646\n",
            "Epoch 40/50\n",
            "6/6 [==============================] - 43s 8s/step - loss: 0.3256 - accuracy: 0.8449 - val_loss: 0.2518 - val_accuracy: 0.8802\n",
            "Epoch 41/50\n",
            "6/6 [==============================] - 41s 8s/step - loss: 0.2654 - accuracy: 0.8770 - val_loss: 0.2290 - val_accuracy: 0.9271\n",
            "Epoch 42/50\n",
            "6/6 [==============================] - 42s 8s/step - loss: 0.2767 - accuracy: 0.8770 - val_loss: 0.2373 - val_accuracy: 0.9062\n",
            "Epoch 43/50\n",
            "6/6 [==============================] - 42s 8s/step - loss: 0.2880 - accuracy: 0.8770 - val_loss: 0.2207 - val_accuracy: 0.9167\n",
            "Epoch 44/50\n",
            "6/6 [==============================] - 43s 8s/step - loss: 0.2447 - accuracy: 0.9037 - val_loss: 0.2285 - val_accuracy: 0.9010\n",
            "Epoch 45/50\n",
            "6/6 [==============================] - 43s 8s/step - loss: 0.3378 - accuracy: 0.8449 - val_loss: 0.2349 - val_accuracy: 0.9010\n",
            "Epoch 46/50\n",
            "6/6 [==============================] - 42s 8s/step - loss: 0.2634 - accuracy: 0.8717 - val_loss: 0.2140 - val_accuracy: 0.9167\n",
            "Epoch 47/50\n",
            "6/6 [==============================] - 42s 8s/step - loss: 0.3048 - accuracy: 0.8503 - val_loss: 0.2678 - val_accuracy: 0.8802\n",
            "Epoch 48/50\n",
            "6/6 [==============================] - 42s 8s/step - loss: 0.2591 - accuracy: 0.8930 - val_loss: 0.2227 - val_accuracy: 0.9062\n",
            "Epoch 49/50\n",
            "6/6 [==============================] - 42s 8s/step - loss: 0.2878 - accuracy: 0.8930 - val_loss: 0.2076 - val_accuracy: 0.9167\n",
            "Epoch 50/50\n",
            "6/6 [==============================] - 43s 8s/step - loss: 0.2743 - accuracy: 0.8824 - val_loss: 0.2359 - val_accuracy: 0.8906\n"
          ]
        }
      ],
      "source": [
        "his = model.fit(train_generator,\n",
        "                          epochs= 50,\n",
        "                          #verbose= 1, \n",
        "                          #callbacks=cb,\n",
        "                          validation_data= validation_generator,\n",
        "                          steps_per_epoch=int(201/32),\n",
        "                          validation_steps=int(201/32))\n"
      ]
    },
    {
      "cell_type": "code",
      "execution_count": null,
      "metadata": {
        "colab": {
          "base_uri": "https://localhost:8080/"
        },
        "id": "kTCikiXRcyL1",
        "outputId": "9e913e13-97dc-4d66-fbda-e4af7538f1fb"
      },
      "outputs": [
        {
          "output_type": "execute_result",
          "data": {
            "text/plain": [
              "dict_keys(['loss', 'accuracy', 'val_loss', 'val_accuracy'])"
            ]
          },
          "metadata": {},
          "execution_count": 13
        }
      ],
      "source": [
        "h = his.history\n",
        "h.keys()"
      ]
    },
    {
      "cell_type": "code",
      "execution_count": null,
      "metadata": {
        "colab": {
          "base_uri": "https://localhost:8080/",
          "height": 472
        },
        "id": "PyIdquUKeusv",
        "outputId": "f8a593af-d167-4647-bcac-1a5115b44c87"
      },
      "outputs": [
        {
          "output_type": "display_data",
          "data": {
            "text/plain": [
              "<Figure size 640x480 with 1 Axes>"
            ],
            "image/png": "[encoded data removed]"
          },
          "metadata": {}
        }
      ],
      "source": [
        "plt.plot(h['loss'])\n",
        "plt.plot(h['val_loss'])\n",
        "plt.title('model loss')\n",
        "plt.ylabel('loss')\n",
        "plt.xlabel('epoch')\n",
        "plt.legend(['test', 'train'], loc='upper right')\n",
        "plt.show()"
      ]
    },
    {
      "cell_type": "code",
      "execution_count": null,
      "metadata": {
        "colab": {
          "base_uri": "https://localhost:8080/"
        },
        "id": "cbVGdftjgZmq",
        "outputId": "2d387925-bb79-47e3-97b3-1a59e9319c5e"
      },
      "outputs": [
        {
          "output_type": "stream",
          "name": "stdout",
          "text": [
            "8/8 [==============================] - 25s 3s/step\n"
          ]
        },
        {
          "output_type": "execute_result",
          "data": {
            "text/plain": [
              "array([[9.76401508e-01, 3.23993973e-02],\n",
              "       [9.93979931e-01, 7.12700374e-03],\n",
              "       [8.36827576e-01, 1.75769687e-01],\n",
              "       [4.34604347e-01, 6.74350321e-01],\n",
              "       [5.38816094e-01, 5.81047714e-01],\n",
              "       [1.40603147e-02, 9.83303785e-01],\n",
              "       [2.01050445e-01, 7.70525217e-01],\n",
              "       [6.76062942e-01, 3.34275723e-01],\n",
              "       [3.66240740e-01, 6.07289374e-01],\n",
              "       [8.89400363e-01, 1.28827214e-01],\n",
              "       [8.59840214e-02, 9.46868777e-01],\n",
              "       [7.93397784e-01, 2.43077293e-01],\n",
              "       [2.62108833e-01, 7.79515445e-01],\n",
              "       [7.47381687e-01, 2.79421151e-01],\n",
              "       [9.92065728e-01, 9.25560854e-03],\n",
              "       [2.94817865e-01, 6.96785867e-01],\n",
              "       [8.58514905e-02, 9.16178703e-01],\n",
              "       [5.09033680e-01, 4.74470079e-01],\n",
              "       [6.09746158e-01, 4.64253634e-01],\n",
              "       [2.16647442e-02, 9.81949031e-01],\n",
              "       [8.65790155e-03, 9.94525969e-01],\n",
              "       [3.98372650e-01, 5.96466422e-01],\n",
              "       [2.46299226e-02, 9.72263098e-01],\n",
              "       [9.40778553e-01, 9.07402635e-02],\n",
              "       [7.05873668e-01, 2.67175466e-01],\n",
              "       [2.69893318e-01, 8.21985900e-01],\n",
              "       [9.43105340e-01, 7.48664886e-02],\n",
              "       [1.96003944e-01, 7.98386812e-01],\n",
              "       [9.99533415e-01, 5.31483849e-04],\n",
              "       [8.59840214e-02, 9.46868777e-01],\n",
              "       [4.83509302e-01, 5.07545650e-01],\n",
              "       [3.77776586e-02, 9.67385173e-01],\n",
              "       [7.34293044e-01, 2.67792672e-01],\n",
              "       [6.57550573e-01, 4.79511797e-01],\n",
              "       [9.85039830e-01, 1.32234069e-02],\n",
              "       [8.26061368e-01, 1.07593775e-01],\n",
              "       [9.79238689e-01, 2.32878141e-02],\n",
              "       [4.38824967e-02, 9.56931829e-01],\n",
              "       [2.15905249e-01, 8.13864350e-01],\n",
              "       [9.90800083e-01, 1.43813696e-02],\n",
              "       [9.18946505e-01, 1.08749978e-01],\n",
              "       [4.19830419e-02, 9.67938602e-01],\n",
              "       [4.31532562e-01, 5.73439956e-01],\n",
              "       [9.95772302e-01, 5.23830252e-03],\n",
              "       [9.27137852e-01, 8.34028348e-02],\n",
              "       [8.58514905e-02, 9.16178703e-01],\n",
              "       [9.08437848e-01, 1.11114852e-01],\n",
              "       [7.34867752e-02, 9.35936391e-01],\n",
              "       [3.88327390e-01, 6.42167151e-01],\n",
              "       [2.37356629e-02, 9.67214882e-01],\n",
              "       [1.60244361e-01, 8.62810850e-01],\n",
              "       [9.97808754e-01, 1.92867871e-03],\n",
              "       [2.01050445e-01, 7.70525217e-01],\n",
              "       [4.77003276e-01, 5.77850461e-01],\n",
              "       [1.69145018e-02, 9.85271335e-01],\n",
              "       [9.89014685e-01, 1.19877374e-02],\n",
              "       [8.20288621e-03, 9.90895927e-01],\n",
              "       [9.94387150e-01, 1.15060117e-02],\n",
              "       [9.18154120e-02, 9.22200918e-01],\n",
              "       [9.75459695e-01, 5.35678081e-02],\n",
              "       [5.46943620e-02, 9.53980923e-01],\n",
              "       [1.13091648e-01, 8.93090427e-01],\n",
              "       [9.92350876e-01, 9.76149086e-03],\n",
              "       [9.64076817e-01, 3.68643850e-02],\n",
              "       [9.49385941e-01, 7.57616609e-02],\n",
              "       [7.94090211e-01, 1.88593745e-01],\n",
              "       [1.13091648e-01, 8.93090427e-01],\n",
              "       [5.22795059e-02, 8.99061978e-01],\n",
              "       [1.60244361e-01, 8.62810850e-01],\n",
              "       [6.73222095e-02, 9.49733794e-01],\n",
              "       [9.95642900e-01, 6.63666939e-03],\n",
              "       [9.75642323e-01, 2.36639697e-02],\n",
              "       [9.34946597e-01, 4.75358926e-02],\n",
              "       [9.28566754e-01, 7.15871602e-02],\n",
              "       [9.81763899e-01, 1.93921681e-02],\n",
              "       [2.31233612e-02, 9.73275244e-01],\n",
              "       [9.98099148e-01, 2.95529515e-03],\n",
              "       [3.09223682e-02, 9.65032876e-01],\n",
              "       [9.53651667e-01, 5.21988124e-02],\n",
              "       [2.31237058e-02, 9.77057815e-01],\n",
              "       [8.47832143e-01, 1.97197333e-01],\n",
              "       [7.34867752e-02, 9.35936391e-01],\n",
              "       [8.12644243e-01, 2.15408668e-01],\n",
              "       [5.23260713e-01, 5.28781772e-01],\n",
              "       [9.97479260e-01, 3.82806431e-03],\n",
              "       [9.99857664e-01, 2.15817476e-04],\n",
              "       [3.97007197e-01, 6.34226799e-01],\n",
              "       [1.18974485e-01, 9.14630711e-01],\n",
              "       [3.56795676e-02, 9.66704607e-01],\n",
              "       [7.42268609e-03, 9.94214594e-01],\n",
              "       [4.15049791e-02, 9.59292054e-01],\n",
              "       [2.16647442e-02, 9.81949031e-01],\n",
              "       [8.58670473e-01, 1.58270448e-01],\n",
              "       [9.79365349e-01, 3.55158895e-02],\n",
              "       [4.15049791e-02, 9.59292054e-01],\n",
              "       [8.57105315e-01, 2.14340761e-01],\n",
              "       [8.38361457e-02, 9.11477268e-01],\n",
              "       [9.92440104e-01, 1.48379905e-02],\n",
              "       [8.83004665e-01, 1.38889402e-01],\n",
              "       [8.82645369e-01, 1.48640722e-01],\n",
              "       [9.92907166e-01, 7.17366813e-03],\n",
              "       [9.12692726e-01, 1.31454542e-01],\n",
              "       [8.62950683e-02, 9.34360385e-01],\n",
              "       [3.36678475e-01, 7.54319251e-01],\n",
              "       [9.98400033e-01, 2.59113335e-03],\n",
              "       [9.90177214e-01, 1.09831858e-02],\n",
              "       [4.19739773e-03, 9.96094525e-01],\n",
              "       [1.04376577e-01, 9.09548342e-01],\n",
              "       [8.38361457e-02, 9.11477268e-01],\n",
              "       [5.16182601e-01, 4.59825307e-01],\n",
              "       [3.23369168e-02, 9.79689598e-01],\n",
              "       [3.98594141e-01, 5.61950505e-01],\n",
              "       [9.98245716e-01, 3.51899792e-03],\n",
              "       [7.51896143e-01, 2.95228720e-01],\n",
              "       [9.96592820e-01, 3.22848628e-03],\n",
              "       [5.87070454e-03, 9.95513737e-01],\n",
              "       [4.19830419e-02, 9.67938602e-01],\n",
              "       [9.93834376e-01, 7.46744405e-03],\n",
              "       [2.45028790e-02, 9.80800927e-01],\n",
              "       [7.71980703e-01, 3.06081444e-01],\n",
              "       [7.47125387e-01, 2.77424097e-01],\n",
              "       [4.64319624e-02, 9.61973488e-01],\n",
              "       [5.45815170e-01, 5.27112424e-01],\n",
              "       [1.69145018e-02, 9.85271335e-01],\n",
              "       [2.91520566e-01, 6.97443247e-01],\n",
              "       [9.96246636e-01, 8.15194938e-03],\n",
              "       [1.49526000e-01, 8.22559953e-01],\n",
              "       [8.28987896e-01, 1.92252994e-01],\n",
              "       [6.31580472e-01, 4.26731139e-01],\n",
              "       [1.84821591e-01, 8.19669783e-01],\n",
              "       [9.96548831e-01, 4.33955202e-03],\n",
              "       [4.54773158e-02, 9.60083425e-01],\n",
              "       [1.95838921e-02, 9.78477478e-01],\n",
              "       [9.97985601e-01, 1.98046979e-03],\n",
              "       [3.64167639e-03, 9.96955514e-01],\n",
              "       [5.22991300e-01, 4.88397598e-01],\n",
              "       [5.90347946e-01, 5.30131280e-01],\n",
              "       [9.30702448e-01, 8.69514272e-02],\n",
              "       [1.54155627e-01, 8.40352416e-01],\n",
              "       [8.84912133e-01, 1.56548828e-01],\n",
              "       [4.84228730e-01, 6.07931435e-01],\n",
              "       [1.95838921e-02, 9.78477478e-01],\n",
              "       [2.59782732e-01, 7.82981277e-01],\n",
              "       [2.56020278e-02, 9.67278898e-01],\n",
              "       [9.83276725e-01, 1.75372381e-02],\n",
              "       [1.62559271e-01, 8.35984707e-01],\n",
              "       [5.34599483e-01, 5.68917572e-01],\n",
              "       [9.88164306e-01, 1.30354008e-02],\n",
              "       [9.85783219e-01, 2.42420938e-02],\n",
              "       [9.90558386e-01, 1.14942873e-02],\n",
              "       [1.69866249e-01, 8.58486950e-01],\n",
              "       [7.92981446e-01, 2.42796347e-01],\n",
              "       [9.41565454e-01, 7.76538998e-02],\n",
              "       [7.67618656e-01, 2.69077808e-01],\n",
              "       [1.82380557e-01, 8.22245657e-01],\n",
              "       [1.71913579e-03, 9.98301268e-01],\n",
              "       [2.31233612e-02, 9.73275244e-01],\n",
              "       [1.03224158e-01, 9.12406206e-01],\n",
              "       [1.76084638e-02, 9.81653392e-01],\n",
              "       [5.46943620e-02, 9.53980923e-01],\n",
              "       [2.71211803e-01, 6.67278409e-01],\n",
              "       [9.99322653e-01, 6.37328194e-04],\n",
              "       [9.99355853e-01, 7.30001309e-04],\n",
              "       [1.40603147e-02, 9.83303785e-01],\n",
              "       [6.17028713e-01, 4.21831727e-01],\n",
              "       [8.34901452e-01, 2.34509885e-01],\n",
              "       [8.20236728e-02, 9.25876856e-01],\n",
              "       [8.91159356e-01, 9.63121131e-02],\n",
              "       [2.62986235e-02, 9.76665914e-01],\n",
              "       [9.34843123e-01, 5.57716638e-02],\n",
              "       [7.20078111e-01, 3.76784146e-01],\n",
              "       [2.80029655e-01, 8.02745461e-01],\n",
              "       [8.44105899e-01, 1.48046225e-01],\n",
              "       [3.64167639e-03, 9.96955514e-01],\n",
              "       [1.94797993e-01, 8.34564805e-01],\n",
              "       [9.98394430e-01, 1.81678927e-03],\n",
              "       [2.80318260e-01, 7.35110223e-01],\n",
              "       [4.04724389e-01, 4.72544402e-01],\n",
              "       [9.38374102e-02, 8.98493826e-01],\n",
              "       [2.62986235e-02, 9.76665914e-01],\n",
              "       [9.53568280e-01, 5.06461896e-02],\n",
              "       [9.93758202e-01, 6.40705647e-03],\n",
              "       [1.24398738e-01, 9.02232051e-01],\n",
              "       [6.19010746e-01, 4.72613275e-01],\n",
              "       [9.81667280e-01, 1.71004031e-02],\n",
              "       [3.59880239e-01, 6.24098003e-01],\n",
              "       [1.76084638e-02, 9.81653392e-01],\n",
              "       [8.02583098e-02, 9.27252948e-01],\n",
              "       [8.50392640e-01, 2.30355620e-01],\n",
              "       [3.34414572e-01, 7.27005541e-01],\n",
              "       [7.11766720e-01, 3.41145784e-01],\n",
              "       [9.20171678e-01, 1.04529001e-01],\n",
              "       [9.73280489e-01, 1.87735930e-02],\n",
              "       [3.83065380e-02, 9.74675298e-01],\n",
              "       [3.84905398e-01, 6.26347184e-01],\n",
              "       [8.55022788e-01, 2.00205237e-01],\n",
              "       [5.41262507e-01, 5.19199491e-01],\n",
              "       [1.39431328e-01, 8.74811828e-01],\n",
              "       [9.74335849e-01, 3.49678174e-02],\n",
              "       [8.31900060e-01, 1.42474800e-01],\n",
              "       [1.44683063e-01, 8.59927416e-01],\n",
              "       [9.99912262e-01, 1.18092263e-04],\n",
              "       [6.34098172e-01, 3.88588876e-01],\n",
              "       [9.98082280e-01, 1.56764698e-03],\n",
              "       [9.80165124e-01, 2.27163751e-02],\n",
              "       [6.68227971e-01, 3.85156423e-01],\n",
              "       [6.44430697e-01, 4.66881990e-01],\n",
              "       [2.17539370e-01, 7.43541002e-01],\n",
              "       [2.63473153e-01, 7.64883637e-01],\n",
              "       [8.69282544e-01, 1.99182749e-01],\n",
              "       [8.34615305e-02, 9.37114656e-01],\n",
              "       [3.23369168e-02, 9.79689598e-01],\n",
              "       [2.51406372e-01, 7.26869464e-01],\n",
              "       [9.05253515e-02, 8.93809140e-01],\n",
              "       [3.96010131e-01, 6.78679407e-01],\n",
              "       [2.25149423e-01, 8.59665215e-01],\n",
              "       [9.79306042e-01, 2.52392460e-02],\n",
              "       [7.85049379e-01, 2.23848835e-01],\n",
              "       [6.32155061e-01, 3.80391091e-01],\n",
              "       [3.83065380e-02, 9.74675298e-01],\n",
              "       [9.57752883e-01, 3.47461775e-02],\n",
              "       [2.46299226e-02, 9.72263098e-01],\n",
              "       [9.61805403e-01, 3.22211199e-02],\n",
              "       [5.09502172e-01, 5.53447783e-01],\n",
              "       [8.34615305e-02, 9.37114656e-01],\n",
              "       [9.99698281e-01, 2.62612128e-04],\n",
              "       [1.62742585e-01, 8.75033379e-01],\n",
              "       [4.33419079e-01, 6.33737624e-01],\n",
              "       [1.88191280e-01, 8.62873435e-01],\n",
              "       [9.97695267e-01, 2.90152663e-03],\n",
              "       [4.72024411e-01, 5.54994702e-01],\n",
              "       [8.43700945e-01, 1.63298309e-01],\n",
              "       [9.99951005e-01, 9.08450093e-05],\n",
              "       [9.38374102e-02, 8.98493826e-01],\n",
              "       [9.08851903e-03, 9.89315033e-01],\n",
              "       [1.38428390e-01, 8.00365031e-01],\n",
              "       [8.82281482e-01, 1.41185254e-01],\n",
              "       [1.71913579e-03, 9.98301268e-01],\n",
              "       [9.90765095e-01, 1.35632465e-02],\n",
              "       [3.22018862e-02, 9.65841413e-01],\n",
              "       [4.00312126e-01, 5.98913252e-01],\n",
              "       [3.49697843e-03, 9.96605396e-01],\n",
              "       [9.59724784e-01, 4.32112925e-02],\n",
              "       [9.85323429e-01, 2.05694195e-02],\n",
              "       [3.56795676e-02, 9.66704607e-01],\n",
              "       [2.37356629e-02, 9.67214882e-01],\n",
              "       [8.30830574e-01, 2.12038502e-01],\n",
              "       [1.84821591e-01, 8.19669783e-01],\n",
              "       [6.54630601e-01, 3.57640624e-01],\n",
              "       [3.49697843e-03, 9.96605396e-01],\n",
              "       [9.59922671e-01, 4.36878912e-02]], dtype=float32)"
            ]
          },
          "metadata": {},
          "execution_count": 15
        }
      ],
      "source": [
        "from sklearn.model_selection import StratifiedKFold\n",
        "from sklearn.metrics import recall_score, accuracy_score, auc, roc_curve,precision_score, precision_recall_curve\n",
        "\n",
        "p = model.predict(validation_generator)\n",
        "p"
      ]
    },
    {
      "cell_type": "code",
      "execution_count": null,
      "metadata": {
        "id": "ba_yPmARfRhI"
      },
      "outputs": [],
      "source": [
        "from keras.models import load_model\n",
        "\n",
        "\n",
        "model = load_model(\"/content/drive/MyDrive/PI/best_model.h5\")"
      ]
    },
    {
      "cell_type": "code",
      "execution_count": null,
      "metadata": {
        "id": "HMrRuo2d5S0g"
      },
      "outputs": [],
      "source": [
        "from sklearn.model_selection import StratifiedKFold\n",
        "from sklearn.metrics import recall_score, accuracy_score, auc, roc_curve,precision_score, precision_recall_curve"
      ]
    },
    {
      "cell_type": "code",
      "execution_count": null,
      "metadata": {
        "colab": {
          "base_uri": "https://localhost:8080/"
        },
        "id": "7tX3jOPNo8Ou",
        "outputId": "9acc7a2f-0c9e-4612-fb2d-86e0843eb04a"
      },
      "outputs": [
        {
          "output_type": "stream",
          "name": "stdout",
          "text": [
            "Accuracy: 0.5099601593625498\n",
            "Precision: 0.5076923076923077\n",
            "Recall: 0.528\n",
            "F1 Score: 0.5176470588235295\n"
          ]
        }
      ],
      "source": [
        "# Calcular métricas con sklearn.metrics\n",
        "y_true = validation_generator.classes\n",
        "y_pred = p\n",
        "y_pred_classes = np.argmax(y_pred, axis=1)\n",
        "\n",
        "accuracy = accuracy_score(y_true, y_pred_classes)\n",
        "precision = precision_score(y_true, y_pred_classes)\n",
        "recall = recall_score(y_true, y_pred_classes)\n",
        "f1 = f1_score(y_true, y_pred_classes)\n",
        "\n",
        "print('Accuracy:', accuracy)\n",
        "print('Precision:', precision)\n",
        "print('Recall:', recall)\n",
        "print('F1 Score:', f1)"
      ]
    },
    {
      "cell_type": "code",
      "source": [
        "import cv2\n",
        "width_shape = 255\n",
        "height_shape = 255"
      ],
      "metadata": {
        "id": "jZ1CGQizSrv0"
      },
      "execution_count": null,
      "outputs": []
    }
  ],
  "metadata": {
    "accelerator": "GPU",
    "colab": {
      "provenance": [],
      "machine_shape": "hm"
    },
    "gpuClass": "standard",
    "kernelspec": {
      "display_name": "Python 3",
      "name": "python3"
    },
    "language_info": {
      "name": "python"
    }
  },
  "nbformat": 4,
  "nbformat_minor": 0
}